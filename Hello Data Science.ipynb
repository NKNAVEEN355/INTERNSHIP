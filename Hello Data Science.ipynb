{
 "cells": [
  {
   "cell_type": "code",
   "execution_count": 1,
   "id": "27f46b20-505d-4f1d-901c-4b4e4641c9e2",
   "metadata": {},
   "outputs": [
    {
     "name": "stdout",
     "output_type": "stream",
     "text": [
      "Welcome to Day 1 of the Data Science Internship!\n"
     ]
    }
   ],
   "source": [
    "print(\"Welcome to Day 1 of the Data Science Internship!\")"
   ]
  },
  {
   "cell_type": "code",
   "execution_count": 2,
   "id": "1af33a7b-f2a3-4ec0-a123-b4b3c149299d",
   "metadata": {},
   "outputs": [
    {
     "name": "stdout",
     "output_type": "stream",
     "text": [
      "Sum of a and b is: 30\n"
     ]
    }
   ],
   "source": [
    "a = 10 \n",
    "b = 20 \n",
    "print(\"Sum of a and b is:\", a + b) "
   ]
  },
  {
   "cell_type": "code",
   "execution_count": 3,
   "id": "9f47bda6-6e52-4f95-84d8-658e1c689d03",
   "metadata": {},
   "outputs": [
    {
     "name": "stdout",
     "output_type": "stream",
     "text": [
      "Learning Data Science is fun: True\n"
     ]
    }
   ],
   "source": [
    "name = \"Data Science\" \n",
    "is_fun = True \n",
    "print(f\"Learning {name} is fun:\", is_fun) "
   ]
  },
  {
   "cell_type": "markdown",
   "id": "e2417d17-6aa5-4a3f-8e72-96d413563ab1",
   "metadata": {
    "jp-MarkdownHeadingCollapsed": true
   },
   "source": [
    "# ## Hello Data Science \n",
    "�\n",
    "�\n",
    " \n",
    " \n",
    "# This is my first notebook using Python and Jupyter! "
   ]
  }
 ],
 "metadata": {
  "kernelspec": {
   "display_name": "Python 3 (ipykernel)",
   "language": "python",
   "name": "python3"
  },
  "language_info": {
   "codemirror_mode": {
    "name": "ipython",
    "version": 3
   },
   "file_extension": ".py",
   "mimetype": "text/x-python",
   "name": "python",
   "nbconvert_exporter": "python",
   "pygments_lexer": "ipython3",
   "version": "3.13.5"
  },
  "widgets": {
   "application/vnd.jupyter.widget-state+json": {
    "state": {},
    "version_major": 2,
    "version_minor": 0
   }
  }
 },
 "nbformat": 4,
 "nbformat_minor": 5
}
